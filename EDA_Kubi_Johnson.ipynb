{
 "cells": [
  {
   "cell_type": "markdown",
   "metadata": {},
   "source": [
    "After cleansing the data, there are no notable shortcomings.  There is daily commodity data running from August 73 until January 2019.  The primary risk is what is not included.  Weather data, major commodity purchasers, and coffee production are not currently loaded into this notebook due to lack data availability.  These fields would certainly help predict coffee prices.\n",
    "\n",
    "The next step is to identify a model specification, train the model, then ultimately run it on test data.  Once the model is functional, then additional data can be identified to improve the accuracy of the model. \n",
    "\n"
   ]
  },
  {
   "cell_type": "code",
   "execution_count": 71,
   "metadata": {},
   "outputs": [],
   "source": [
    "#Reading 5 datasets and other packages\n",
    "\n",
    "import matplotlib.pyplot as plt\n",
    "import numpy as np\n",
    "import seaborn as sns\n",
    "import pandas as pd\n",
    "from pathlib import Path\n",
    "\n",
    "coffee = Path('..', 'Final Project', 'Datasets', 'historic_coffee_prices.csv') \n",
    "coffee = pd.read_csv(coffee)\n",
    "\n",
    "corn = Path('..', 'Final Project', 'Datasets', 'historic_corn_prices.csv') \n",
    "corn = pd.read_csv(corn)\n",
    "\n",
    "cotton = Path('..', 'Final Project', 'Datasets', 'historic_cotton_prices.csv') \n",
    "cotton = pd.read_csv(cotton)\n",
    "\n",
    "sugar = Path('..', 'Final Project', 'Datasets', 'historic_sugar_prices.csv') \n",
    "sugar = pd.read_csv(sugar)\n",
    "\n",
    "wheat = Path('..', 'Final Project', 'Datasets', 'historic_wheat_prices.csv') \n",
    "wheat = pd.read_csv(wheat)\n"
   ]
  },
  {
   "cell_type": "code",
   "execution_count": 72,
   "metadata": {},
   "outputs": [],
   "source": [
    "#Changing column names\n",
    "\n",
    "coffee.rename(columns = {coffee.columns[1]: 'coffee_prices'}, inplace=True)\n",
    "corn.rename(columns = {corn.columns[1]: 'corn_prices'}, inplace=True)\n",
    "cotton.rename(columns = {cotton.columns[1]: 'cotton_prices'}, inplace=True)\n",
    "sugar.rename(columns = {sugar.columns[1]: 'sugar_prices'}, inplace=True)\n",
    "wheat.rename(columns = {wheat.columns[1]: 'wheat_prices'}, inplace=True)"
   ]
  },
  {
   "cell_type": "code",
   "execution_count": 73,
   "metadata": {},
   "outputs": [
    {
     "data": {
      "text/html": [
       "<div>\n",
       "<style scoped>\n",
       "    .dataframe tbody tr th:only-of-type {\n",
       "        vertical-align: middle;\n",
       "    }\n",
       "\n",
       "    .dataframe tbody tr th {\n",
       "        vertical-align: top;\n",
       "    }\n",
       "\n",
       "    .dataframe thead th {\n",
       "        text-align: right;\n",
       "    }\n",
       "</style>\n",
       "<table border=\"1\" class=\"dataframe\">\n",
       "  <thead>\n",
       "    <tr style=\"text-align: right;\">\n",
       "      <th></th>\n",
       "      <th>date</th>\n",
       "      <th>wheat_prices</th>\n",
       "    </tr>\n",
       "  </thead>\n",
       "  <tbody>\n",
       "    <tr>\n",
       "      <th>0</th>\n",
       "      <td>7/1/59</td>\n",
       "      <td>1.964</td>\n",
       "    </tr>\n",
       "    <tr>\n",
       "      <th>1</th>\n",
       "      <td>7/2/59</td>\n",
       "      <td>1.971</td>\n",
       "    </tr>\n",
       "    <tr>\n",
       "      <th>2</th>\n",
       "      <td>7/6/59</td>\n",
       "      <td>1.970</td>\n",
       "    </tr>\n",
       "    <tr>\n",
       "      <th>3</th>\n",
       "      <td>7/7/59</td>\n",
       "      <td>1.971</td>\n",
       "    </tr>\n",
       "    <tr>\n",
       "      <th>4</th>\n",
       "      <td>7/8/59</td>\n",
       "      <td>1.964</td>\n",
       "    </tr>\n",
       "  </tbody>\n",
       "</table>\n",
       "</div>"
      ],
      "text/plain": [
       "     date  wheat_prices\n",
       "0  7/1/59         1.964\n",
       "1  7/2/59         1.971\n",
       "2  7/6/59         1.970\n",
       "3  7/7/59         1.971\n",
       "4  7/8/59         1.964"
      ]
     },
     "execution_count": 73,
     "metadata": {},
     "output_type": "execute_result"
    }
   ],
   "source": [
    "#Checking the column names were changed\n",
    "\n",
    "coffee.head()\n",
    "corn.head()\n",
    "cotton.head()\n",
    "sugar.head()\n",
    "wheat.head()"
   ]
  },
  {
   "cell_type": "code",
   "execution_count": 75,
   "metadata": {},
   "outputs": [
    {
     "data": {
      "text/html": [
       "<div>\n",
       "<style scoped>\n",
       "    .dataframe tbody tr th:only-of-type {\n",
       "        vertical-align: middle;\n",
       "    }\n",
       "\n",
       "    .dataframe tbody tr th {\n",
       "        vertical-align: top;\n",
       "    }\n",
       "\n",
       "    .dataframe thead th {\n",
       "        text-align: right;\n",
       "    }\n",
       "</style>\n",
       "<table border=\"1\" class=\"dataframe\">\n",
       "  <thead>\n",
       "    <tr style=\"text-align: right;\">\n",
       "      <th></th>\n",
       "      <th>date</th>\n",
       "      <th>coffee_prices</th>\n",
       "      <th>corn_prices</th>\n",
       "      <th>cotton_prices</th>\n",
       "      <th>sugar_prices</th>\n",
       "      <th>wheat_prices</th>\n",
       "    </tr>\n",
       "  </thead>\n",
       "  <tbody>\n",
       "    <tr>\n",
       "      <th>0</th>\n",
       "      <td>8/20/73</td>\n",
       "      <td>0.6735</td>\n",
       "      <td>3.115</td>\n",
       "      <td>0.7800</td>\n",
       "      <td>0.0852</td>\n",
       "      <td>5.085</td>\n",
       "    </tr>\n",
       "    <tr>\n",
       "      <th>1</th>\n",
       "      <td>8/21/73</td>\n",
       "      <td>0.6710</td>\n",
       "      <td>3.015</td>\n",
       "      <td>0.7925</td>\n",
       "      <td>0.0859</td>\n",
       "      <td>5.285</td>\n",
       "    </tr>\n",
       "    <tr>\n",
       "      <th>2</th>\n",
       "      <td>8/22/73</td>\n",
       "      <td>0.6580</td>\n",
       "      <td>2.915</td>\n",
       "      <td>0.8100</td>\n",
       "      <td>0.0870</td>\n",
       "      <td>5.085</td>\n",
       "    </tr>\n",
       "    <tr>\n",
       "      <th>3</th>\n",
       "      <td>8/23/73</td>\n",
       "      <td>0.6675</td>\n",
       "      <td>2.815</td>\n",
       "      <td>0.8300</td>\n",
       "      <td>0.0880</td>\n",
       "      <td>5.005</td>\n",
       "    </tr>\n",
       "    <tr>\n",
       "      <th>4</th>\n",
       "      <td>8/24/73</td>\n",
       "      <td>0.6660</td>\n",
       "      <td>2.900</td>\n",
       "      <td>0.8500</td>\n",
       "      <td>0.0886</td>\n",
       "      <td>5.180</td>\n",
       "    </tr>\n",
       "  </tbody>\n",
       "</table>\n",
       "</div>"
      ],
      "text/plain": [
       "      date  coffee_prices  corn_prices  cotton_prices  sugar_prices  \\\n",
       "0  8/20/73         0.6735        3.115         0.7800        0.0852   \n",
       "1  8/21/73         0.6710        3.015         0.7925        0.0859   \n",
       "2  8/22/73         0.6580        2.915         0.8100        0.0870   \n",
       "3  8/23/73         0.6675        2.815         0.8300        0.0880   \n",
       "4  8/24/73         0.6660        2.900         0.8500        0.0886   \n",
       "\n",
       "   wheat_prices  \n",
       "0         5.085  \n",
       "1         5.285  \n",
       "2         5.085  \n",
       "3         5.005  \n",
       "4         5.180  "
      ]
     },
     "execution_count": 75,
     "metadata": {},
     "output_type": "execute_result"
    }
   ],
   "source": [
    "#Merge the 5 different datasets\n",
    "merge1 = pd.merge(coffee,corn,on='date')\n",
    "merge2 = pd.merge(merge1,cotton,on='date')\n",
    "merge3 = pd.merge(merge2,sugar,on='date')\n",
    "commodities = pd.merge(merge3,wheat,on='date')\n",
    "\n",
    "commodities.head()"
   ]
  },
  {
   "cell_type": "code",
   "execution_count": 85,
   "metadata": {},
   "outputs": [
    {
     "data": {
      "text/html": [
       "<div>\n",
       "<style scoped>\n",
       "    .dataframe tbody tr th:only-of-type {\n",
       "        vertical-align: middle;\n",
       "    }\n",
       "\n",
       "    .dataframe tbody tr th {\n",
       "        vertical-align: top;\n",
       "    }\n",
       "\n",
       "    .dataframe thead th {\n",
       "        text-align: right;\n",
       "    }\n",
       "</style>\n",
       "<table border=\"1\" class=\"dataframe\">\n",
       "  <thead>\n",
       "    <tr style=\"text-align: right;\">\n",
       "      <th></th>\n",
       "      <th>date</th>\n",
       "      <th>coffee_prices</th>\n",
       "      <th>corn_prices</th>\n",
       "      <th>cotton_prices</th>\n",
       "      <th>sugar_prices</th>\n",
       "      <th>wheat_prices</th>\n",
       "    </tr>\n",
       "  </thead>\n",
       "  <tbody>\n",
       "    <tr>\n",
       "      <th>11349</th>\n",
       "      <td>1/14/19</td>\n",
       "      <td>1.0275</td>\n",
       "      <td>3.7850</td>\n",
       "      <td>0.7299</td>\n",
       "      <td>0.1275</td>\n",
       "      <td>5.1425</td>\n",
       "    </tr>\n",
       "    <tr>\n",
       "      <th>11350</th>\n",
       "      <td>1/15/19</td>\n",
       "      <td>1.0130</td>\n",
       "      <td>3.7125</td>\n",
       "      <td>0.7236</td>\n",
       "      <td>0.1316</td>\n",
       "      <td>5.1100</td>\n",
       "    </tr>\n",
       "    <tr>\n",
       "      <th>11351</th>\n",
       "      <td>1/16/19</td>\n",
       "      <td>1.0240</td>\n",
       "      <td>3.7400</td>\n",
       "      <td>0.7327</td>\n",
       "      <td>0.1317</td>\n",
       "      <td>5.1250</td>\n",
       "    </tr>\n",
       "    <tr>\n",
       "      <th>11352</th>\n",
       "      <td>1/17/19</td>\n",
       "      <td>1.0240</td>\n",
       "      <td>3.8000</td>\n",
       "      <td>0.7437</td>\n",
       "      <td>0.1285</td>\n",
       "      <td>5.1775</td>\n",
       "    </tr>\n",
       "    <tr>\n",
       "      <th>11353</th>\n",
       "      <td>1/18/19</td>\n",
       "      <td>1.0495</td>\n",
       "      <td>3.8175</td>\n",
       "      <td>0.7389</td>\n",
       "      <td>0.1303</td>\n",
       "      <td>5.1775</td>\n",
       "    </tr>\n",
       "  </tbody>\n",
       "</table>\n",
       "</div>"
      ],
      "text/plain": [
       "          date  coffee_prices  corn_prices  cotton_prices  sugar_prices  \\\n",
       "11349  1/14/19         1.0275       3.7850         0.7299        0.1275   \n",
       "11350  1/15/19         1.0130       3.7125         0.7236        0.1316   \n",
       "11351  1/16/19         1.0240       3.7400         0.7327        0.1317   \n",
       "11352  1/17/19         1.0240       3.8000         0.7437        0.1285   \n",
       "11353  1/18/19         1.0495       3.8175         0.7389        0.1303   \n",
       "\n",
       "       wheat_prices  \n",
       "11349        5.1425  \n",
       "11350        5.1100  \n",
       "11351        5.1250  \n",
       "11352        5.1775  \n",
       "11353        5.1775  "
      ]
     },
     "execution_count": 85,
     "metadata": {},
     "output_type": "execute_result"
    }
   ],
   "source": [
    "commodities.tail()"
   ]
  },
  {
   "cell_type": "code",
   "execution_count": 76,
   "metadata": {},
   "outputs": [
    {
     "data": {
      "text/html": [
       "<div>\n",
       "<style scoped>\n",
       "    .dataframe tbody tr th:only-of-type {\n",
       "        vertical-align: middle;\n",
       "    }\n",
       "\n",
       "    .dataframe tbody tr th {\n",
       "        vertical-align: top;\n",
       "    }\n",
       "\n",
       "    .dataframe thead th {\n",
       "        text-align: right;\n",
       "    }\n",
       "</style>\n",
       "<table border=\"1\" class=\"dataframe\">\n",
       "  <thead>\n",
       "    <tr style=\"text-align: right;\">\n",
       "      <th></th>\n",
       "      <th>coffee_prices</th>\n",
       "      <th>corn_prices</th>\n",
       "      <th>cotton_prices</th>\n",
       "      <th>sugar_prices</th>\n",
       "      <th>wheat_prices</th>\n",
       "    </tr>\n",
       "  </thead>\n",
       "  <tbody>\n",
       "    <tr>\n",
       "      <th>count</th>\n",
       "      <td>11354.000000</td>\n",
       "      <td>11354.000000</td>\n",
       "      <td>11354.000000</td>\n",
       "      <td>11354.000000</td>\n",
       "      <td>11354.000000</td>\n",
       "    </tr>\n",
       "    <tr>\n",
       "      <th>mean</th>\n",
       "      <td>1.264848</td>\n",
       "      <td>3.119784</td>\n",
       "      <td>0.680981</td>\n",
       "      <td>0.126317</td>\n",
       "      <td>4.171703</td>\n",
       "    </tr>\n",
       "    <tr>\n",
       "      <th>std</th>\n",
       "      <td>0.483284</td>\n",
       "      <td>1.217594</td>\n",
       "      <td>0.183875</td>\n",
       "      <td>0.068175</td>\n",
       "      <td>1.466444</td>\n",
       "    </tr>\n",
       "    <tr>\n",
       "      <th>min</th>\n",
       "      <td>0.425000</td>\n",
       "      <td>1.427500</td>\n",
       "      <td>0.285200</td>\n",
       "      <td>0.027000</td>\n",
       "      <td>2.147500</td>\n",
       "    </tr>\n",
       "    <tr>\n",
       "      <th>25%</th>\n",
       "      <td>0.928000</td>\n",
       "      <td>2.320000</td>\n",
       "      <td>0.577600</td>\n",
       "      <td>0.083000</td>\n",
       "      <td>3.182500</td>\n",
       "    </tr>\n",
       "    <tr>\n",
       "      <th>50%</th>\n",
       "      <td>1.243000</td>\n",
       "      <td>2.735000</td>\n",
       "      <td>0.658350</td>\n",
       "      <td>0.109000</td>\n",
       "      <td>3.735000</td>\n",
       "    </tr>\n",
       "    <tr>\n",
       "      <th>75%</th>\n",
       "      <td>1.471000</td>\n",
       "      <td>3.587125</td>\n",
       "      <td>0.760575</td>\n",
       "      <td>0.148600</td>\n",
       "      <td>4.777500</td>\n",
       "    </tr>\n",
       "    <tr>\n",
       "      <th>max</th>\n",
       "      <td>3.356300</td>\n",
       "      <td>8.312500</td>\n",
       "      <td>2.141400</td>\n",
       "      <td>0.652000</td>\n",
       "      <td>12.825000</td>\n",
       "    </tr>\n",
       "  </tbody>\n",
       "</table>\n",
       "</div>"
      ],
      "text/plain": [
       "       coffee_prices   corn_prices  cotton_prices  sugar_prices  wheat_prices\n",
       "count   11354.000000  11354.000000   11354.000000  11354.000000  11354.000000\n",
       "mean        1.264848      3.119784       0.680981      0.126317      4.171703\n",
       "std         0.483284      1.217594       0.183875      0.068175      1.466444\n",
       "min         0.425000      1.427500       0.285200      0.027000      2.147500\n",
       "25%         0.928000      2.320000       0.577600      0.083000      3.182500\n",
       "50%         1.243000      2.735000       0.658350      0.109000      3.735000\n",
       "75%         1.471000      3.587125       0.760575      0.148600      4.777500\n",
       "max         3.356300      8.312500       2.141400      0.652000     12.825000"
      ]
     },
     "execution_count": 76,
     "metadata": {},
     "output_type": "execute_result"
    }
   ],
   "source": [
    "#Exploratory Data Analysis\n",
    "\n",
    "\n",
    "commodities.shape\n",
    "\n",
    "commodities.describe()\n",
    "\n",
    "\n"
   ]
  },
  {
   "cell_type": "code",
   "execution_count": 77,
   "metadata": {},
   "outputs": [
    {
     "data": {
      "image/png": "[encoded data removed]",
      "text/plain": [
       "<Figure size 432x288 with 2 Axes>"
      ]
     },
     "metadata": {
      "needs_background": "light"
     },
     "output_type": "display_data"
    }
   ],
   "source": [
    "ax = sns.heatmap(\n",
    "    commodities.corr(),\n",
    "    vmin=-1,\n",
    "    vmax=1,\n",
    "    cmap=sns.diverging_palette(220, 10, n=21)\n",
    ")"
   ]
  },
  {
   "cell_type": "code",
   "execution_count": 86,
   "metadata": {},
   "outputs": [
    {
     "data": {
      "text/plain": [
       "<matplotlib.axes._subplots.AxesSubplot at 0x1a1ae1ea58>"
      ]
     },
     "execution_count": 86,
     "metadata": {},
     "output_type": "execute_result"
    },
    {
     "data": {
      "image/png": "[encoded data removed]",
      "text/plain": [
       "<Figure size 432x288 with 1 Axes>"
      ]
     },
     "metadata": {
      "needs_background": "light"
     },
     "output_type": "display_data"
    }
   ],
   "source": [
    "commodities.plot()"
   ]
  },
  {
   "cell_type": "code",
   "execution_count": null,
   "metadata": {},
   "outputs": [],
   "source": []
  }
 ],
 "metadata": {
  "kernelspec": {
   "display_name": "Python 3",
   "language": "python",
   "name": "python3"
  },
  "language_info": {
   "codemirror_mode": {
    "name": "ipython",
    "version": 3
   },
   "file_extension": ".py",
   "mimetype": "text/x-python",
   "name": "python",
   "nbconvert_exporter": "python",
   "pygments_lexer": "ipython3",
   "version": "3.7.0"
  }
 },
 "nbformat": 4,
 "nbformat_minor": 2
}
